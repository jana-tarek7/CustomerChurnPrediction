{
 "cells": [
  {
   "cell_type": "markdown",
   "id": "e2308a1b",
   "metadata": {},
   "source": [
    "# Advaned Data Analysis"
   ]
  },
  {
   "cell_type": "code",
   "execution_count": 12,
   "id": "476fb7cf",
   "metadata": {},
   "outputs": [],
   "source": [
    "# Import required libraries\n",
    "from sklearn.model_selection import train_test_split\n",
    "import numpy as np\n",
    "from sklearn.linear_model import LogisticRegression\n",
    "import warnings\n",
    "warnings.filterwarnings('ignore')\n",
    "from sklearn.ensemble import RandomForestClassifier\n",
    "from sklearn.feature_selection import RFE\n",
    "from sklearn.metrics import accuracy_score\n",
    "from scipy.stats import chi2_contingency\n",
    "import matplotlib.pyplot as plt\n",
    "import seaborn as sns  # Importing Seaborn for visualization\n"
   ]
  },
  {
   "cell_type": "code",
   "execution_count": 13,
   "id": "b3407ae2",
   "metadata": {},
   "outputs": [],
   "source": [
    "from cleaning_preprocessing import preprocess_data, clean_data\n",
    "from ML import split_data\n",
    "from feature_engineering import perform_feature_engineering\n",
    "import pandas as pd"
   ]
  },
  {
   "cell_type": "code",
   "execution_count": 21,
   "id": "543a6471",
   "metadata": {},
   "outputs": [],
   "source": [
    "# Load and clean data\n",
    "df = pd.read_csv(r'churn.csv')\n",
    "data = clean_data(df.copy())\n",
    "\n"
   ]
  },
  {
   "cell_type": "markdown",
   "id": "fc1ee9e1",
   "metadata": {},
   "source": [
    "**statistics for numeric columns**"
   ]
  },
  {
   "cell_type": "code",
   "execution_count": 22,
   "id": "fffd6865",
   "metadata": {},
   "outputs": [
    {
     "data": {
      "text/html": [
       "<div>\n",
       "<style scoped>\n",
       "    .dataframe tbody tr th:only-of-type {\n",
       "        vertical-align: middle;\n",
       "    }\n",
       "\n",
       "    .dataframe tbody tr th {\n",
       "        vertical-align: top;\n",
       "    }\n",
       "\n",
       "    .dataframe thead tr th {\n",
       "        text-align: left;\n",
       "    }\n",
       "\n",
       "    .dataframe thead tr:last-of-type th {\n",
       "        text-align: right;\n",
       "    }\n",
       "</style>\n",
       "<table border=\"1\" class=\"dataframe\">\n",
       "  <thead>\n",
       "    <tr>\n",
       "      <th></th>\n",
       "      <th colspan=\"5\" halign=\"left\">age</th>\n",
       "      <th colspan=\"5\" halign=\"left\">days_since_last_login</th>\n",
       "      <th>...</th>\n",
       "      <th colspan=\"5\" halign=\"left\">avg_frequency_login_days</th>\n",
       "      <th colspan=\"5\" halign=\"left\">points_in_wallet</th>\n",
       "    </tr>\n",
       "    <tr>\n",
       "      <th></th>\n",
       "      <th>mean</th>\n",
       "      <th>std</th>\n",
       "      <th>median</th>\n",
       "      <th>count</th>\n",
       "      <th>iqr</th>\n",
       "      <th>mean</th>\n",
       "      <th>std</th>\n",
       "      <th>median</th>\n",
       "      <th>count</th>\n",
       "      <th>iqr</th>\n",
       "      <th>...</th>\n",
       "      <th>mean</th>\n",
       "      <th>std</th>\n",
       "      <th>median</th>\n",
       "      <th>count</th>\n",
       "      <th>iqr</th>\n",
       "      <th>mean</th>\n",
       "      <th>std</th>\n",
       "      <th>median</th>\n",
       "      <th>count</th>\n",
       "      <th>iqr</th>\n",
       "    </tr>\n",
       "    <tr>\n",
       "      <th>churn_risk_score</th>\n",
       "      <th></th>\n",
       "      <th></th>\n",
       "      <th></th>\n",
       "      <th></th>\n",
       "      <th></th>\n",
       "      <th></th>\n",
       "      <th></th>\n",
       "      <th></th>\n",
       "      <th></th>\n",
       "      <th></th>\n",
       "      <th></th>\n",
       "      <th></th>\n",
       "      <th></th>\n",
       "      <th></th>\n",
       "      <th></th>\n",
       "      <th></th>\n",
       "      <th></th>\n",
       "      <th></th>\n",
       "      <th></th>\n",
       "      <th></th>\n",
       "      <th></th>\n",
       "    </tr>\n",
       "  </thead>\n",
       "  <tbody>\n",
       "    <tr>\n",
       "      <th>0</th>\n",
       "      <td>37.012662</td>\n",
       "      <td>15.920910</td>\n",
       "      <td>37.0</td>\n",
       "      <td>16980</td>\n",
       "      <td>28.0</td>\n",
       "      <td>12.675206</td>\n",
       "      <td>5.456140</td>\n",
       "      <td>13.0</td>\n",
       "      <td>16980</td>\n",
       "      <td>7.0</td>\n",
       "      <td>...</td>\n",
       "      <td>15.307100</td>\n",
       "      <td>7.899226</td>\n",
       "      <td>16.0</td>\n",
       "      <td>16980</td>\n",
       "      <td>10.25</td>\n",
       "      <td>748.744055</td>\n",
       "      <td>165.551032</td>\n",
       "      <td>749.43</td>\n",
       "      <td>16980</td>\n",
       "      <td>75.9850</td>\n",
       "    </tr>\n",
       "    <tr>\n",
       "      <th>1</th>\n",
       "      <td>37.207675</td>\n",
       "      <td>15.821724</td>\n",
       "      <td>37.0</td>\n",
       "      <td>20012</td>\n",
       "      <td>27.0</td>\n",
       "      <td>12.853388</td>\n",
       "      <td>5.388323</td>\n",
       "      <td>13.0</td>\n",
       "      <td>20012</td>\n",
       "      <td>7.0</td>\n",
       "      <td>...</td>\n",
       "      <td>17.470367</td>\n",
       "      <td>7.753620</td>\n",
       "      <td>16.0</td>\n",
       "      <td>20012</td>\n",
       "      <td>11.00</td>\n",
       "      <td>642.223854</td>\n",
       "      <td>171.979198</td>\n",
       "      <td>648.75</td>\n",
       "      <td>20012</td>\n",
       "      <td>104.0725</td>\n",
       "    </tr>\n",
       "  </tbody>\n",
       "</table>\n",
       "<p>2 rows × 30 columns</p>\n",
       "</div>"
      ],
      "text/plain": [
       "                        age                                 \\\n",
       "                       mean        std median  count   iqr   \n",
       "churn_risk_score                                             \n",
       "0                 37.012662  15.920910   37.0  16980  28.0   \n",
       "1                 37.207675  15.821724   37.0  20012  27.0   \n",
       "\n",
       "                 days_since_last_login                               ...  \\\n",
       "                                  mean       std median  count  iqr  ...   \n",
       "churn_risk_score                                                     ...   \n",
       "0                            12.675206  5.456140   13.0  16980  7.0  ...   \n",
       "1                            12.853388  5.388323   13.0  20012  7.0  ...   \n",
       "\n",
       "                 avg_frequency_login_days                                 \\\n",
       "                                     mean       std median  count    iqr   \n",
       "churn_risk_score                                                           \n",
       "0                               15.307100  7.899226   16.0  16980  10.25   \n",
       "1                               17.470367  7.753620   16.0  20012  11.00   \n",
       "\n",
       "                 points_in_wallet                                       \n",
       "                             mean         std  median  count       iqr  \n",
       "churn_risk_score                                                        \n",
       "0                      748.744055  165.551032  749.43  16980   75.9850  \n",
       "1                      642.223854  171.979198  648.75  20012  104.0725  \n",
       "\n",
       "[2 rows x 30 columns]"
      ]
     },
     "execution_count": 22,
     "metadata": {},
     "output_type": "execute_result"
    }
   ],
   "source": [
    "\n",
    "def iqr(x):\n",
    "    return np.percentile(x, 75) - np.percentile(x, 25)\n",
    "\n",
    "num_cols = data.select_dtypes(include=[np.number]).columns.tolist()\n",
    "num_cols = [col for col in num_cols if col != 'churn_risk_score']\n",
    "\n",
    "summary = data.groupby('churn_risk_score')[num_cols].agg(['mean', 'std', 'median', 'count', iqr])\n",
    "\n",
    "summary\n"
   ]
  },
  {
   "cell_type": "markdown",
   "id": "c104e093",
   "metadata": {},
   "source": [
    "**chi square**"
   ]
  },
  {
   "cell_type": "code",
   "execution_count": 23,
   "id": "0994cb4c",
   "metadata": {},
   "outputs": [
    {
     "name": "stdout",
     "output_type": "stream",
     "text": [
      "                         Feature       p-value\n",
      "2            membership_category  0.000000e+00\n",
      "11                      feedback  0.000000e+00\n",
      "4          preferred_offer_types  5.948122e-16\n",
      "1                region_category  9.613296e-05\n",
      "8   offer_application_preference  3.284632e-04\n",
      "5            medium_of_operation  4.654710e-04\n",
      "7          used_special_discount  4.160001e-02\n",
      "9                 past_complaint  8.765362e-02\n",
      "10              complaint_status  2.803956e-01\n",
      "6                internet_option  3.286981e-01\n",
      "0                         gender  3.714744e-01\n",
      "3                   joining_date  8.146282e-01\n",
      "\n",
      "Significant features based on Chi-Square test (p-value < 0.05):\n",
      "                         Feature       p-value\n",
      "2            membership_category  0.000000e+00\n",
      "11                      feedback  0.000000e+00\n",
      "4          preferred_offer_types  5.948122e-16\n",
      "1                region_category  9.613296e-05\n",
      "8   offer_application_preference  3.284632e-04\n",
      "5            medium_of_operation  4.654710e-04\n",
      "7          used_special_discount  4.160001e-02\n"
     ]
    }
   ],
   "source": [
    "\n",
    "\n",
    "\n",
    "# 1. Identifying categorical columns\n",
    "categorical_cols = data.select_dtypes(include='object').columns.tolist()\n",
    "categorical_cols = [col for col in categorical_cols if col not in ['churn_risk_score']]  # Exclude non-relevant columns\n",
    "\n",
    "# 2. Initializing a dictionary to store the results\n",
    "chi_square_results = {}\n",
    "\n",
    "# 3. Performing the Chi-Square Test\n",
    "for col in categorical_cols:\n",
    "    # Creating a contingency table between \"churn_risk_score\" and each categorical column\n",
    "    contingency_table = pd.crosstab(data['churn_risk_score'], data[col]) \n",
    "\n",
    "    # Applying the Chi-Square test\n",
    "    chi2, p, dof, expected = chi2_contingency(contingency_table)\n",
    "\n",
    "    # Storing the result (p-value) in the dictionary\n",
    "    chi_square_results[col] = p\n",
    "\n",
    "# 4. Converting the results into a DataFrame\n",
    "chi_square_df = pd.DataFrame(list(chi_square_results.items()), columns=['Feature', 'p-value'])\n",
    "\n",
    "# 5. Sorting the results by p-value\n",
    "chi_square_df.sort_values('p-value', inplace=True)\n",
    "\n",
    "# 6. Displaying the results\n",
    "print(chi_square_df)\n",
    "\n",
    "# 7. Filtering the results where p-value is less than 0.05\n",
    "significant_categorical_features = chi_square_df[chi_square_df['p-value'] < 0.05]\n",
    "\n",
    "print(\"\\nSignificant features based on Chi-Square test (p-value < 0.05):\")\n",
    "print(significant_categorical_features)\n"
   ]
  },
  {
   "cell_type": "markdown",
   "id": "685bb8c0",
   "metadata": {},
   "source": [
    "**ANOVA**"
   ]
  },
  {
   "cell_type": "code",
   "execution_count": 24,
   "id": "c9879e0f",
   "metadata": {},
   "outputs": [
    {
     "name": "stdout",
     "output_type": "stream",
     "text": [
      "ANOVA Test:\n",
      "F-statistic: 327.4290956119143\n",
      "P-value: 0.0\n",
      "There are significant differences between membership categories.\n"
     ]
    }
   ],
   "source": [
    "\n",
    "from scipy import stats  # Importing stats from scipy\n",
    "# Selecting the relevant columns and removing any rows with missing values\n",
    "df_anova = data[['avg_transaction_value', 'membership_category']].dropna()\n",
    "\n",
    "# Grouping the data by membership category\n",
    "groups = df_anova.groupby('membership_category')['avg_transaction_value'].apply(list)\n",
    "\n",
    "# Performing the ANOVA test\n",
    "f_stat, p_value = stats.f_oneway(*groups)\n",
    "\n",
    "# Printing the results\n",
    "print(\"ANOVA Test:\")\n",
    "print(\"F-statistic:\", f_stat)\n",
    "print(\"P-value:\", p_value)\n",
    "\n",
    "# Interpretation\n",
    "if p_value < 0.05:\n",
    "    print(\"There are significant differences between membership categories.\")\n",
    "else:\n",
    "    print(\"There are no significant differences between membership categories.\")\n"
   ]
  },
  {
   "cell_type": "markdown",
   "id": "7cb1dc60",
   "metadata": {},
   "source": [
    "**T_test**"
   ]
  },
  {
   "cell_type": "code",
   "execution_count": 25,
   "id": "eb72cb2f",
   "metadata": {},
   "outputs": [
    {
     "name": "stdout",
     "output_type": "stream",
     "text": [
      "T-Test between points_in_wallet and past_complaint:\n",
      "T-Statistic: -0.5864344556211992\n",
      "P-Value: 0.5575871742552968\n",
      "=> There is no significant difference between the two groups.\n"
     ]
    }
   ],
   "source": [
    "from scipy.stats import ttest_ind\n",
    "\n",
    "# Removing rows with missing values\n",
    "df_ttest = data[['points_in_wallet', 'past_complaint']].dropna()\n",
    "\n",
    "# Stripping any extra spaces in the 'past_complaint' column values\n",
    "df_ttest['past_complaint'] = df_ttest['past_complaint'].str.strip()\n",
    "\n",
    "# Preparing the two groups\n",
    "group_yes = df_ttest[df_ttest['past_complaint'] == 'Yes']['points_in_wallet']\n",
    "group_no  = df_ttest[df_ttest['past_complaint'] == 'No']['points_in_wallet']\n",
    "\n",
    "# Performing the T-Test\n",
    "t_stat, p_value = ttest_ind(group_yes, group_no, equal_var=False)  # Welch’s T-test for unequal variances\n",
    "\n",
    "# Printing the results\n",
    "print(\"T-Test between points_in_wallet and past_complaint:\")\n",
    "print(f\"T-Statistic: {t_stat}\")\n",
    "print(f\"P-Value: {p_value}\")\n",
    "\n",
    "# Interpretation\n",
    "if p_value < 0.05:\n",
    "    print(\"=> There is a significant difference between the two groups.\")\n",
    "else:\n",
    "    print(\"=> There is no significant difference between the two groups.\")\n"
   ]
  },
  {
   "cell_type": "markdown",
   "id": "d6d2df3d",
   "metadata": {},
   "source": [
    "**correlation matrix**"
   ]
  },
  {
   "cell_type": "code",
   "execution_count": 26,
   "id": "242e772e",
   "metadata": {},
   "outputs": [
    {
     "name": "stdout",
     "output_type": "stream",
     "text": [
      "\n",
      "Correlation of variables with churn_risk_score (sorted):\n",
      "avg_frequency_login_days    0.136550\n",
      "days_since_last_login       0.016382\n",
      "age                         0.006124\n",
      "avg_time_spent             -0.012481\n",
      "avg_transaction_value      -0.218012\n",
      "points_in_wallet           -0.299567\n",
      "Name: churn_risk_score, dtype: float64\n"
     ]
    },
    {
     "data": {
      "image/png": "[encoded data removed]",
      "text/plain": [
       "<Figure size 1000x800 with 2 Axes>"
      ]
     },
     "metadata": {},
     "output_type": "display_data"
    }
   ],
   "source": [
    "\n",
    "# Defining only the numerical variables\n",
    "numerical_features = [\n",
    "    'points_in_wallet',\n",
    "    'avg_transaction_value',\n",
    "    'age',\n",
    "    'days_since_last_login',\n",
    "    'avg_time_spent',\n",
    "    'avg_frequency_login_days',\n",
    "    'churn_risk_score'\n",
    "]\n",
    "\n",
    "# Creating the correlation matrix\n",
    "corr_matrix = data[numerical_features].corr()\n",
    "\n",
    "# Sorting correlation values with churn_risk_score\n",
    "corr_with_target = corr_matrix['churn_risk_score'].drop('churn_risk_score').sort_values(ascending=False)\n",
    "\n",
    "# Printing sorted correlation values\n",
    "print(\"\\nCorrelation of variables with churn_risk_score (sorted):\")\n",
    "print(corr_with_target)\n",
    "\n",
    "# Plotting a heatmap to visualize the full correlation matrix\n",
    "plt.figure(figsize=(10,8))\n",
    "sns.heatmap(corr_matrix, annot=True, cmap='coolwarm', fmt='.2f')\n",
    "plt.title('Correlation Matrix')\n",
    "plt.show()\n"
   ]
  },
  {
   "cell_type": "code",
   "execution_count": 27,
   "id": "de24badb",
   "metadata": {},
   "outputs": [],
   "source": [
    "preprocessed_data = preprocess_data(data)\n",
    "engineered_data = perform_feature_engineering(preprocessed_data)"
   ]
  },
  {
   "cell_type": "markdown",
   "id": "54310222",
   "metadata": {},
   "source": [
    "**RFE**"
   ]
  },
  {
   "cell_type": "code",
   "execution_count": 28,
   "id": "87ea6582",
   "metadata": {},
   "outputs": [
    {
     "name": "stdout",
     "output_type": "stream",
     "text": [
      "\n",
      " Random Forest selected features:\n",
      "['age', 'joining_date', 'days_since_last_login', 'avg_time_spent', 'avg_transaction_value', 'avg_frequency_login_days', 'points_in_wallet', 'membership_category(Basic Membership)', 'membership_category(Gold Membership)', 'membership_category(No Membership)', 'membership_category(Platinum Membership)', 'membership_category(Premium Membership)', 'membership_category(Silver Membership)', 'feedback(Products always in Stock)', 'feedback(Quality Customer Care)', 'feedback(Reasonable Price)', 'feedback(User Friendly Website)', 'customer_tenure', 'usage_pattern', 'interaction_frequency', 'engagement_score', 'log_age', 'log_avg_time_spent', 'log_avg_transaction_value', 'log_avg_frequency_login_days', 'log_points_in_wallet', 'log_customer_tenure', 'log_usage_pattern', 'log_engagement_score', 'join_month']\n",
      "Random Forest RFE Accuracy: 0.9339\n",
      "\n",
      " Logistic Regression selected features:\n",
      "['age', 'joining_date', 'days_since_last_login', 'avg_time_spent', 'avg_transaction_value', 'avg_frequency_login_days', 'points_in_wallet', 'membership_category(Basic Membership)', 'membership_category(Gold Membership)', 'membership_category(No Membership)', 'membership_category(Platinum Membership)', 'membership_category(Premium Membership)', 'feedback(Poor Product Quality)', 'feedback(Reasonable Price)', 'feedback(User Friendly Website)', 'customer_tenure', 'usage_pattern', 'engagement_score', 'log_age', 'log_days_since_last_login', 'log_avg_time_spent', 'log_avg_transaction_value', 'log_avg_frequency_login_days', 'log_points_in_wallet', 'log_customer_tenure', 'log_usage_pattern', 'log_interaction_frequency', 'log_engagement_score', 'join_month', 'join_year']\n",
      "Logistic Regression RFE Accuracy: 0.5436\n",
      "\n",
      " Common Features: ['log_customer_tenure', 'days_since_last_login', 'log_avg_time_spent', 'avg_time_spent', 'membership_category(No Membership)', 'feedback(User Friendly Website)', 'avg_frequency_login_days', 'feedback(Reasonable Price)', 'engagement_score', 'joining_date', 'membership_category(Premium Membership)', 'log_age', 'customer_tenure', 'avg_transaction_value', 'membership_category(Platinum Membership)', 'membership_category(Gold Membership)', 'age', 'log_avg_transaction_value', 'points_in_wallet', 'log_points_in_wallet', 'usage_pattern', 'join_month', 'log_usage_pattern', 'log_engagement_score', 'membership_category(Basic Membership)', 'log_avg_frequency_login_days']\n",
      " Only in RF: ['feedback(Quality Customer Care)', 'membership_category(Silver Membership)', 'feedback(Products always in Stock)', 'interaction_frequency']\n",
      " Only in LR: ['feedback(Poor Product Quality)', 'join_year', 'log_interaction_frequency', 'log_days_since_last_login']\n"
     ]
    }
   ],
   "source": [
    "\n",
    "\n",
    "data_rfe = engineered_data\n",
    "for col in data_rfe.columns:\n",
    "    if data_rfe[col].dtype == 'object' or data_rfe[col].dtype.name == 'datetime64[ns]':\n",
    "        try:\n",
    "            data_rfe[col] = pd.to_numeric(data_rfe[col])\n",
    "        except:\n",
    "            data_rfe = data_rfe.drop(col, axis=1)\n",
    "\n",
    "X = data_rfe.drop('churn_risk_score', axis=1)\n",
    "y = data_rfe['churn_risk_score']\n",
    "\n",
    "\n",
    "X_train, X_test, y_train, y_test = train_test_split(X, y, test_size=0.2, random_state=42)\n",
    "\n",
    "num_features = 30\n",
    "\n",
    "# 3. RFE : Random Forest\n",
    "rf_model = RandomForestClassifier(random_state=42)\n",
    "rfe_rf = RFE(rf_model, n_features_to_select=num_features)\n",
    "rfe_rf.fit(X_train, y_train)\n",
    "rf_selected_features = X.columns[rfe_rf.support_]\n",
    "\n",
    "# 4. RFE : Logistic Regression\n",
    "lr_model = LogisticRegression(max_iter=1000, random_state=42)\n",
    "rfe_lr = RFE(lr_model, n_features_to_select=num_features)\n",
    "rfe_lr.fit(X_train, y_train)\n",
    "lr_selected_features = X.columns[rfe_lr.support_]\n",
    "\n",
    "\n",
    "# Random Forest performance\n",
    "rf_model.fit(X_train[rf_selected_features], y_train)\n",
    "y_pred_rf = rf_model.predict(X_test[rf_selected_features])\n",
    "acc_rf = accuracy_score(y_test, y_pred_rf)\n",
    "\n",
    "# Logistic Regression performance\n",
    "lr_model.fit(X_train[lr_selected_features], y_train)\n",
    "y_pred_lr = lr_model.predict(X_test[lr_selected_features])\n",
    "acc_lr = accuracy_score(y_test, y_pred_lr)\n",
    "\n",
    "\n",
    "print(\"\\n Random Forest selected features:\")\n",
    "print(rf_selected_features.tolist())\n",
    "print(f\"Random Forest RFE Accuracy: {acc_rf:.4f}\")\n",
    "\n",
    "print(\"\\n Logistic Regression selected features:\")\n",
    "print(lr_selected_features.tolist())\n",
    "print(f\"Logistic Regression RFE Accuracy: {acc_lr:.4f}\")\n",
    "\n",
    "common = set(rf_selected_features) & set(lr_selected_features)\n",
    "only_rf = set(rf_selected_features) - set(lr_selected_features)\n",
    "only_lr = set(lr_selected_features) - set(rf_selected_features)\n",
    "\n",
    "print(\"\\n Common Features:\", list(common))\n",
    "print(\" Only in RF:\", list(only_rf))\n",
    "print(\" Only in LR:\", list(only_lr))\n"
   ]
  }
 ],
 "metadata": {
  "kernelspec": {
   "display_name": "base",
   "language": "python",
   "name": "python3"
  },
  "language_info": {
   "codemirror_mode": {
    "name": "ipython",
    "version": 3
   },
   "file_extension": ".py",
   "mimetype": "text/x-python",
   "name": "python",
   "nbconvert_exporter": "python",
   "pygments_lexer": "ipython3",
   "version": "3.11.5"
  }
 },
 "nbformat": 4,
 "nbformat_minor": 5
}
