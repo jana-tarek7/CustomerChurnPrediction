{
 "cells": [
  {
   "cell_type": "markdown",
   "id": "e2308a1b",
   "metadata": {},
   "source": [
    "# Advaned Data Analysis"
   ]
  },
  {
   "cell_type": "code",
   "execution_count": 6,
   "id": "476fb7cf",
   "metadata": {},
   "outputs": [],
   "source": [
    "# Import required libraries\n",
    "from sklearn.model_selection import train_test_split\n",
    "import numpy as np\n",
    "from sklearn.linear_model import LogisticRegression\n",
    "import warnings\n",
    "warnings.filterwarnings('ignore')\n",
    "from sklearn.ensemble import RandomForestClassifier\n",
    "from sklearn.feature_selection import RFE\n",
    "from sklearn.metrics import accuracy_score\n",
    "from scipy.stats import chi2_contingency\n",
    "import matplotlib.pyplot as plt\n",
    "import seaborn as sns  # Importing Seaborn for visualization\n"
   ]
  },
  {
   "cell_type": "code",
   "execution_count": 7,
   "id": "b3407ae2",
   "metadata": {},
   "outputs": [],
   "source": [
    "from cleaning_preprocessing import preprocess_data, clean_data\n",
    "from ML import split_data\n",
    "from feature_engineering import perform_feature_engineering\n",
    "import pandas as pd"
   ]
  },
  {
   "cell_type": "code",
   "execution_count": 8,
   "id": "543a6471",
   "metadata": {},
   "outputs": [],
   "source": [
    "# Load and clean data\n",
    "df = pd.read_csv(r'C:/Users/LapCell/Downloads/churn project (2)/churn project/churn.csv')\n",
    "data = clean_data(df.copy())\n",
    "data= preprocess_data(data)\n",
    "\n"
   ]
  },
  {
   "cell_type": "markdown",
   "id": "fc1ee9e1",
   "metadata": {},
   "source": [
    "**statistics for numeric columns**"
   ]
  },
  {
   "cell_type": "code",
   "execution_count": 9,
   "id": "fffd6865",
   "metadata": {},
   "outputs": [
    {
     "data": {
      "application/vnd.microsoft.datawrangler.viewer.v0+json": {
       "columns": [
        {
         "name": "churn_risk_score",
         "rawType": "int64",
         "type": "integer"
        },
        {
         "name": "('age', 'mean')",
         "rawType": "float64",
         "type": "float"
        },
        {
         "name": "('age', 'std')",
         "rawType": "float64",
         "type": "float"
        },
        {
         "name": "('age', 'median')",
         "rawType": "float64",
         "type": "float"
        },
        {
         "name": "('age', 'count')",
         "rawType": "int64",
         "type": "integer"
        },
        {
         "name": "('age', 'iqr')",
         "rawType": "float64",
         "type": "float"
        },
        {
         "name": "('gender', 'mean')",
         "rawType": "float64",
         "type": "float"
        },
        {
         "name": "('gender', 'std')",
         "rawType": "float64",
         "type": "float"
        },
        {
         "name": "('gender', 'median')",
         "rawType": "float64",
         "type": "float"
        },
        {
         "name": "('gender', 'count')",
         "rawType": "int64",
         "type": "integer"
        },
        {
         "name": "('gender', 'iqr')",
         "rawType": "float64",
         "type": "float"
        },
        {
         "name": "('days_since_last_login', 'mean')",
         "rawType": "float64",
         "type": "float"
        },
        {
         "name": "('days_since_last_login', 'std')",
         "rawType": "float64",
         "type": "float"
        },
        {
         "name": "('days_since_last_login', 'median')",
         "rawType": "float64",
         "type": "float"
        },
        {
         "name": "('days_since_last_login', 'count')",
         "rawType": "int64",
         "type": "integer"
        },
        {
         "name": "('days_since_last_login', 'iqr')",
         "rawType": "float64",
         "type": "float"
        },
        {
         "name": "('avg_time_spent', 'mean')",
         "rawType": "float64",
         "type": "float"
        },
        {
         "name": "('avg_time_spent', 'std')",
         "rawType": "float64",
         "type": "float"
        },
        {
         "name": "('avg_time_spent', 'median')",
         "rawType": "float64",
         "type": "float"
        },
        {
         "name": "('avg_time_spent', 'count')",
         "rawType": "int64",
         "type": "integer"
        },
        {
         "name": "('avg_time_spent', 'iqr')",
         "rawType": "float64",
         "type": "float"
        },
        {
         "name": "('avg_transaction_value', 'mean')",
         "rawType": "float64",
         "type": "float"
        },
        {
         "name": "('avg_transaction_value', 'std')",
         "rawType": "float64",
         "type": "float"
        },
        {
         "name": "('avg_transaction_value', 'median')",
         "rawType": "float64",
         "type": "float"
        },
        {
         "name": "('avg_transaction_value', 'count')",
         "rawType": "int64",
         "type": "integer"
        },
        {
         "name": "('avg_transaction_value', 'iqr')",
         "rawType": "float64",
         "type": "float"
        },
        {
         "name": "('avg_frequency_login_days', 'mean')",
         "rawType": "float64",
         "type": "float"
        },
        {
         "name": "('avg_frequency_login_days', 'std')",
         "rawType": "float64",
         "type": "float"
        },
        {
         "name": "('avg_frequency_login_days', 'median')",
         "rawType": "float64",
         "type": "float"
        },
        {
         "name": "('avg_frequency_login_days', 'count')",
         "rawType": "int64",
         "type": "integer"
        },
        {
         "name": "('avg_frequency_login_days', 'iqr')",
         "rawType": "float64",
         "type": "float"
        },
        {
         "name": "('points_in_wallet', 'mean')",
         "rawType": "float64",
         "type": "float"
        },
        {
         "name": "('points_in_wallet', 'std')",
         "rawType": "float64",
         "type": "float"
        },
        {
         "name": "('points_in_wallet', 'median')",
         "rawType": "float64",
         "type": "float"
        },
        {
         "name": "('points_in_wallet', 'count')",
         "rawType": "int64",
         "type": "integer"
        },
        {
         "name": "('points_in_wallet', 'iqr')",
         "rawType": "float64",
         "type": "float"
        },
        {
         "name": "('used_special_discount', 'mean')",
         "rawType": "float64",
         "type": "float"
        },
        {
         "name": "('used_special_discount', 'std')",
         "rawType": "float64",
         "type": "float"
        },
        {
         "name": "('used_special_discount', 'median')",
         "rawType": "float64",
         "type": "float"
        },
        {
         "name": "('used_special_discount', 'count')",
         "rawType": "int64",
         "type": "integer"
        },
        {
         "name": "('used_special_discount', 'iqr')",
         "rawType": "float64",
         "type": "float"
        },
        {
         "name": "('offer_application_preference', 'mean')",
         "rawType": "float64",
         "type": "float"
        },
        {
         "name": "('offer_application_preference', 'std')",
         "rawType": "float64",
         "type": "float"
        },
        {
         "name": "('offer_application_preference', 'median')",
         "rawType": "float64",
         "type": "float"
        },
        {
         "name": "('offer_application_preference', 'count')",
         "rawType": "int64",
         "type": "integer"
        },
        {
         "name": "('offer_application_preference', 'iqr')",
         "rawType": "float64",
         "type": "float"
        },
        {
         "name": "('past_complaint', 'mean')",
         "rawType": "float64",
         "type": "float"
        },
        {
         "name": "('past_complaint', 'std')",
         "rawType": "float64",
         "type": "float"
        },
        {
         "name": "('past_complaint', 'median')",
         "rawType": "float64",
         "type": "float"
        },
        {
         "name": "('past_complaint', 'count')",
         "rawType": "int64",
         "type": "integer"
        },
        {
         "name": "('past_complaint', 'iqr')",
         "rawType": "float64",
         "type": "float"
        },
        {
         "name": "('region_category(City)', 'mean')",
         "rawType": "float64",
         "type": "float"
        },
        {
         "name": "('region_category(City)', 'std')",
         "rawType": "float64",
         "type": "float"
        },
        {
         "name": "('region_category(City)', 'median')",
         "rawType": "float64",
         "type": "float"
        },
        {
         "name": "('region_category(City)', 'count')",
         "rawType": "int64",
         "type": "integer"
        },
        {
         "name": "('region_category(City)', 'iqr')",
         "rawType": "float64",
         "type": "float"
        },
        {
         "name": "('region_category(Town)', 'mean')",
         "rawType": "float64",
         "type": "float"
        },
        {
         "name": "('region_category(Town)', 'std')",
         "rawType": "float64",
         "type": "float"
        },
        {
         "name": "('region_category(Town)', 'median')",
         "rawType": "float64",
         "type": "float"
        },
        {
         "name": "('region_category(Town)', 'count')",
         "rawType": "int64",
         "type": "integer"
        },
        {
         "name": "('region_category(Town)', 'iqr')",
         "rawType": "float64",
         "type": "float"
        },
        {
         "name": "('region_category(Village)', 'mean')",
         "rawType": "float64",
         "type": "float"
        },
        {
         "name": "('region_category(Village)', 'std')",
         "rawType": "float64",
         "type": "float"
        },
        {
         "name": "('region_category(Village)', 'median')",
         "rawType": "float64",
         "type": "float"
        },
        {
         "name": "('region_category(Village)', 'count')",
         "rawType": "int64",
         "type": "integer"
        },
        {
         "name": "('region_category(Village)', 'iqr')",
         "rawType": "float64",
         "type": "float"
        },
        {
         "name": "('membership_category(Basic Membership)', 'mean')",
         "rawType": "float64",
         "type": "float"
        },
        {
         "name": "('membership_category(Basic Membership)', 'std')",
         "rawType": "float64",
         "type": "float"
        },
        {
         "name": "('membership_category(Basic Membership)', 'median')",
         "rawType": "float64",
         "type": "float"
        },
        {
         "name": "('membership_category(Basic Membership)', 'count')",
         "rawType": "int64",
         "type": "integer"
        },
        {
         "name": "('membership_category(Basic Membership)', 'iqr')",
         "rawType": "float64",
         "type": "float"
        },
        {
         "name": "('membership_category(Gold Membership)', 'mean')",
         "rawType": "float64",
         "type": "float"
        },
        {
         "name": "('membership_category(Gold Membership)', 'std')",
         "rawType": "float64",
         "type": "float"
        },
        {
         "name": "('membership_category(Gold Membership)', 'median')",
         "rawType": "float64",
         "type": "float"
        },
        {
         "name": "('membership_category(Gold Membership)', 'count')",
         "rawType": "int64",
         "type": "integer"
        },
        {
         "name": "('membership_category(Gold Membership)', 'iqr')",
         "rawType": "float64",
         "type": "float"
        },
        {
         "name": "('membership_category(No Membership)', 'mean')",
         "rawType": "float64",
         "type": "float"
        },
        {
         "name": "('membership_category(No Membership)', 'std')",
         "rawType": "float64",
         "type": "float"
        },
        {
         "name": "('membership_category(No Membership)', 'median')",
         "rawType": "float64",
         "type": "float"
        },
        {
         "name": "('membership_category(No Membership)', 'count')",
         "rawType": "int64",
         "type": "integer"
        },
        {
         "name": "('membership_category(No Membership)', 'iqr')",
         "rawType": "float64",
         "type": "float"
        },
        {
         "name": "('membership_category(Platinum Membership)', 'mean')",
         "rawType": "float64",
         "type": "float"
        },
        {
         "name": "('membership_category(Platinum Membership)', 'std')",
         "rawType": "float64",
         "type": "float"
        },
        {
         "name": "('membership_category(Platinum Membership)', 'median')",
         "rawType": "float64",
         "type": "float"
        },
        {
         "name": "('membership_category(Platinum Membership)', 'count')",
         "rawType": "int64",
         "type": "integer"
        },
        {
         "name": "('membership_category(Platinum Membership)', 'iqr')",
         "rawType": "float64",
         "type": "float"
        },
        {
         "name": "('membership_category(Premium Membership)', 'mean')",
         "rawType": "float64",
         "type": "float"
        },
        {
         "name": "('membership_category(Premium Membership)', 'std')",
         "rawType": "float64",
         "type": "float"
        },
        {
         "name": "('membership_category(Premium Membership)', 'median')",
         "rawType": "float64",
         "type": "float"
        },
        {
         "name": "('membership_category(Premium Membership)', 'count')",
         "rawType": "int64",
         "type": "integer"
        },
        {
         "name": "('membership_category(Premium Membership)', 'iqr')",
         "rawType": "float64",
         "type": "float"
        },
        {
         "name": "('membership_category(Silver Membership)', 'mean')",
         "rawType": "float64",
         "type": "float"
        },
        {
         "name": "('membership_category(Silver Membership)', 'std')",
         "rawType": "float64",
         "type": "float"
        },
        {
         "name": "('membership_category(Silver Membership)', 'median')",
         "rawType": "float64",
         "type": "float"
        },
        {
         "name": "('membership_category(Silver Membership)', 'count')",
         "rawType": "int64",
         "type": "integer"
        },
        {
         "name": "('membership_category(Silver Membership)', 'iqr')",
         "rawType": "float64",
         "type": "float"
        },
        {
         "name": "('preferred_offer_types(Credit/Debit Card Offers)', 'mean')",
         "rawType": "float64",
         "type": "float"
        },
        {
         "name": "('preferred_offer_types(Credit/Debit Card Offers)', 'std')",
         "rawType": "float64",
         "type": "float"
        },
        {
         "name": "('preferred_offer_types(Credit/Debit Card Offers)', 'median')",
         "rawType": "float64",
         "type": "float"
        },
        {
         "name": "('preferred_offer_types(Credit/Debit Card Offers)', 'count')",
         "rawType": "int64",
         "type": "integer"
        },
        {
         "name": "('preferred_offer_types(Credit/Debit Card Offers)', 'iqr')",
         "rawType": "float64",
         "type": "float"
        },
        {
         "name": "('preferred_offer_types(Gift Vouchers/Coupons)', 'mean')",
         "rawType": "float64",
         "type": "float"
        },
        {
         "name": "('preferred_offer_types(Gift Vouchers/Coupons)', 'std')",
         "rawType": "float64",
         "type": "float"
        },
        {
         "name": "('preferred_offer_types(Gift Vouchers/Coupons)', 'median')",
         "rawType": "float64",
         "type": "float"
        },
        {
         "name": "('preferred_offer_types(Gift Vouchers/Coupons)', 'count')",
         "rawType": "int64",
         "type": "integer"
        },
        {
         "name": "('preferred_offer_types(Gift Vouchers/Coupons)', 'iqr')",
         "rawType": "float64",
         "type": "float"
        },
        {
         "name": "('preferred_offer_types(Without Offers)', 'mean')",
         "rawType": "float64",
         "type": "float"
        },
        {
         "name": "('preferred_offer_types(Without Offers)', 'std')",
         "rawType": "float64",
         "type": "float"
        },
        {
         "name": "('preferred_offer_types(Without Offers)', 'median')",
         "rawType": "float64",
         "type": "float"
        },
        {
         "name": "('preferred_offer_types(Without Offers)', 'count')",
         "rawType": "int64",
         "type": "integer"
        },
        {
         "name": "('preferred_offer_types(Without Offers)', 'iqr')",
         "rawType": "float64",
         "type": "float"
        },
        {
         "name": "('medium_of_operation(Both)', 'mean')",
         "rawType": "float64",
         "type": "float"
        },
        {
         "name": "('medium_of_operation(Both)', 'std')",
         "rawType": "float64",
         "type": "float"
        },
        {
         "name": "('medium_of_operation(Both)', 'median')",
         "rawType": "float64",
         "type": "float"
        },
        {
         "name": "('medium_of_operation(Both)', 'count')",
         "rawType": "int64",
         "type": "integer"
        },
        {
         "name": "('medium_of_operation(Both)', 'iqr')",
         "rawType": "float64",
         "type": "float"
        },
        {
         "name": "('medium_of_operation(Desktop)', 'mean')",
         "rawType": "float64",
         "type": "float"
        },
        {
         "name": "('medium_of_operation(Desktop)', 'std')",
         "rawType": "float64",
         "type": "float"
        },
        {
         "name": "('medium_of_operation(Desktop)', 'median')",
         "rawType": "float64",
         "type": "float"
        },
        {
         "name": "('medium_of_operation(Desktop)', 'count')",
         "rawType": "int64",
         "type": "integer"
        },
        {
         "name": "('medium_of_operation(Desktop)', 'iqr')",
         "rawType": "float64",
         "type": "float"
        },
        {
         "name": "('medium_of_operation(Smartphone)', 'mean')",
         "rawType": "float64",
         "type": "float"
        },
        {
         "name": "('medium_of_operation(Smartphone)', 'std')",
         "rawType": "float64",
         "type": "float"
        },
        {
         "name": "('medium_of_operation(Smartphone)', 'median')",
         "rawType": "float64",
         "type": "float"
        },
        {
         "name": "('medium_of_operation(Smartphone)', 'count')",
         "rawType": "int64",
         "type": "integer"
        },
        {
         "name": "('medium_of_operation(Smartphone)', 'iqr')",
         "rawType": "float64",
         "type": "float"
        },
        {
         "name": "('medium_of_operation(Unknown)', 'mean')",
         "rawType": "float64",
         "type": "float"
        },
        {
         "name": "('medium_of_operation(Unknown)', 'std')",
         "rawType": "float64",
         "type": "float"
        },
        {
         "name": "('medium_of_operation(Unknown)', 'median')",
         "rawType": "float64",
         "type": "float"
        },
        {
         "name": "('medium_of_operation(Unknown)', 'count')",
         "rawType": "int64",
         "type": "integer"
        },
        {
         "name": "('medium_of_operation(Unknown)', 'iqr')",
         "rawType": "float64",
         "type": "float"
        },
        {
         "name": "('internet_option(Fiber_Optic)', 'mean')",
         "rawType": "float64",
         "type": "float"
        },
        {
         "name": "('internet_option(Fiber_Optic)', 'std')",
         "rawType": "float64",
         "type": "float"
        },
        {
         "name": "('internet_option(Fiber_Optic)', 'median')",
         "rawType": "float64",
         "type": "float"
        },
        {
         "name": "('internet_option(Fiber_Optic)', 'count')",
         "rawType": "int64",
         "type": "integer"
        },
        {
         "name": "('internet_option(Fiber_Optic)', 'iqr')",
         "rawType": "float64",
         "type": "float"
        },
        {
         "name": "('internet_option(Mobile_Data)', 'mean')",
         "rawType": "float64",
         "type": "float"
        },
        {
         "name": "('internet_option(Mobile_Data)', 'std')",
         "rawType": "float64",
         "type": "float"
        },
        {
         "name": "('internet_option(Mobile_Data)', 'median')",
         "rawType": "float64",
         "type": "float"
        },
        {
         "name": "('internet_option(Mobile_Data)', 'count')",
         "rawType": "int64",
         "type": "integer"
        },
        {
         "name": "('internet_option(Mobile_Data)', 'iqr')",
         "rawType": "float64",
         "type": "float"
        },
        {
         "name": "('internet_option(Wi-Fi)', 'mean')",
         "rawType": "float64",
         "type": "float"
        },
        {
         "name": "('internet_option(Wi-Fi)', 'std')",
         "rawType": "float64",
         "type": "float"
        },
        {
         "name": "('internet_option(Wi-Fi)', 'median')",
         "rawType": "float64",
         "type": "float"
        },
        {
         "name": "('internet_option(Wi-Fi)', 'count')",
         "rawType": "int64",
         "type": "integer"
        },
        {
         "name": "('internet_option(Wi-Fi)', 'iqr')",
         "rawType": "float64",
         "type": "float"
        },
        {
         "name": "('complaint_status(No Information Available)', 'mean')",
         "rawType": "float64",
         "type": "float"
        },
        {
         "name": "('complaint_status(No Information Available)', 'std')",
         "rawType": "float64",
         "type": "float"
        },
        {
         "name": "('complaint_status(No Information Available)', 'median')",
         "rawType": "float64",
         "type": "float"
        },
        {
         "name": "('complaint_status(No Information Available)', 'count')",
         "rawType": "int64",
         "type": "integer"
        },
        {
         "name": "('complaint_status(No Information Available)', 'iqr')",
         "rawType": "float64",
         "type": "float"
        },
        {
         "name": "('complaint_status(Not Applicable)', 'mean')",
         "rawType": "float64",
         "type": "float"
        },
        {
         "name": "('complaint_status(Not Applicable)', 'std')",
         "rawType": "float64",
         "type": "float"
        },
        {
         "name": "('complaint_status(Not Applicable)', 'median')",
         "rawType": "float64",
         "type": "float"
        },
        {
         "name": "('complaint_status(Not Applicable)', 'count')",
         "rawType": "int64",
         "type": "integer"
        },
        {
         "name": "('complaint_status(Not Applicable)', 'iqr')",
         "rawType": "float64",
         "type": "float"
        },
        {
         "name": "('complaint_status(Solved)', 'mean')",
         "rawType": "float64",
         "type": "float"
        },
        {
         "name": "('complaint_status(Solved)', 'std')",
         "rawType": "float64",
         "type": "float"
        },
        {
         "name": "('complaint_status(Solved)', 'median')",
         "rawType": "float64",
         "type": "float"
        },
        {
         "name": "('complaint_status(Solved)', 'count')",
         "rawType": "int64",
         "type": "integer"
        },
        {
         "name": "('complaint_status(Solved)', 'iqr')",
         "rawType": "float64",
         "type": "float"
        },
        {
         "name": "('complaint_status(Solved in Follow-up)', 'mean')",
         "rawType": "float64",
         "type": "float"
        },
        {
         "name": "('complaint_status(Solved in Follow-up)', 'std')",
         "rawType": "float64",
         "type": "float"
        },
        {
         "name": "('complaint_status(Solved in Follow-up)', 'median')",
         "rawType": "float64",
         "type": "float"
        },
        {
         "name": "('complaint_status(Solved in Follow-up)', 'count')",
         "rawType": "int64",
         "type": "integer"
        },
        {
         "name": "('complaint_status(Solved in Follow-up)', 'iqr')",
         "rawType": "float64",
         "type": "float"
        },
        {
         "name": "('complaint_status(Unsolved)', 'mean')",
         "rawType": "float64",
         "type": "float"
        },
        {
         "name": "('complaint_status(Unsolved)', 'std')",
         "rawType": "float64",
         "type": "float"
        },
        {
         "name": "('complaint_status(Unsolved)', 'median')",
         "rawType": "float64",
         "type": "float"
        },
        {
         "name": "('complaint_status(Unsolved)', 'count')",
         "rawType": "int64",
         "type": "integer"
        },
        {
         "name": "('complaint_status(Unsolved)', 'iqr')",
         "rawType": "float64",
         "type": "float"
        },
        {
         "name": "('feedback(No reason specified)', 'mean')",
         "rawType": "float64",
         "type": "float"
        },
        {
         "name": "('feedback(No reason specified)', 'std')",
         "rawType": "float64",
         "type": "float"
        },
        {
         "name": "('feedback(No reason specified)', 'median')",
         "rawType": "float64",
         "type": "float"
        },
        {
         "name": "('feedback(No reason specified)', 'count')",
         "rawType": "int64",
         "type": "integer"
        },
        {
         "name": "('feedback(No reason specified)', 'iqr')",
         "rawType": "float64",
         "type": "float"
        },
        {
         "name": "('feedback(Poor Customer Service)', 'mean')",
         "rawType": "float64",
         "type": "float"
        },
        {
         "name": "('feedback(Poor Customer Service)', 'std')",
         "rawType": "float64",
         "type": "float"
        },
        {
         "name": "('feedback(Poor Customer Service)', 'median')",
         "rawType": "float64",
         "type": "float"
        },
        {
         "name": "('feedback(Poor Customer Service)', 'count')",
         "rawType": "int64",
         "type": "integer"
        },
        {
         "name": "('feedback(Poor Customer Service)', 'iqr')",
         "rawType": "float64",
         "type": "float"
        },
        {
         "name": "('feedback(Poor Product Quality)', 'mean')",
         "rawType": "float64",
         "type": "float"
        },
        {
         "name": "('feedback(Poor Product Quality)', 'std')",
         "rawType": "float64",
         "type": "float"
        },
        {
         "name": "('feedback(Poor Product Quality)', 'median')",
         "rawType": "float64",
         "type": "float"
        },
        {
         "name": "('feedback(Poor Product Quality)', 'count')",
         "rawType": "int64",
         "type": "integer"
        },
        {
         "name": "('feedback(Poor Product Quality)', 'iqr')",
         "rawType": "float64",
         "type": "float"
        },
        {
         "name": "('feedback(Poor Website)', 'mean')",
         "rawType": "float64",
         "type": "float"
        },
        {
         "name": "('feedback(Poor Website)', 'std')",
         "rawType": "float64",
         "type": "float"
        },
        {
         "name": "('feedback(Poor Website)', 'median')",
         "rawType": "float64",
         "type": "float"
        },
        {
         "name": "('feedback(Poor Website)', 'count')",
         "rawType": "int64",
         "type": "integer"
        },
        {
         "name": "('feedback(Poor Website)', 'iqr')",
         "rawType": "float64",
         "type": "float"
        },
        {
         "name": "('feedback(Products always in Stock)', 'mean')",
         "rawType": "float64",
         "type": "float"
        },
        {
         "name": "('feedback(Products always in Stock)', 'std')",
         "rawType": "float64",
         "type": "float"
        },
        {
         "name": "('feedback(Products always in Stock)', 'median')",
         "rawType": "float64",
         "type": "float"
        },
        {
         "name": "('feedback(Products always in Stock)', 'count')",
         "rawType": "int64",
         "type": "integer"
        },
        {
         "name": "('feedback(Products always in Stock)', 'iqr')",
         "rawType": "float64",
         "type": "float"
        },
        {
         "name": "('feedback(Quality Customer Care)', 'mean')",
         "rawType": "float64",
         "type": "float"
        },
        {
         "name": "('feedback(Quality Customer Care)', 'std')",
         "rawType": "float64",
         "type": "float"
        },
        {
         "name": "('feedback(Quality Customer Care)', 'median')",
         "rawType": "float64",
         "type": "float"
        },
        {
         "name": "('feedback(Quality Customer Care)', 'count')",
         "rawType": "int64",
         "type": "integer"
        },
        {
         "name": "('feedback(Quality Customer Care)', 'iqr')",
         "rawType": "float64",
         "type": "float"
        },
        {
         "name": "('feedback(Reasonable Price)', 'mean')",
         "rawType": "float64",
         "type": "float"
        },
        {
         "name": "('feedback(Reasonable Price)', 'std')",
         "rawType": "float64",
         "type": "float"
        },
        {
         "name": "('feedback(Reasonable Price)', 'median')",
         "rawType": "float64",
         "type": "float"
        },
        {
         "name": "('feedback(Reasonable Price)', 'count')",
         "rawType": "int64",
         "type": "integer"
        },
        {
         "name": "('feedback(Reasonable Price)', 'iqr')",
         "rawType": "float64",
         "type": "float"
        },
        {
         "name": "('feedback(Too many ads)', 'mean')",
         "rawType": "float64",
         "type": "float"
        },
        {
         "name": "('feedback(Too many ads)', 'std')",
         "rawType": "float64",
         "type": "float"
        },
        {
         "name": "('feedback(Too many ads)', 'median')",
         "rawType": "float64",
         "type": "float"
        },
        {
         "name": "('feedback(Too many ads)', 'count')",
         "rawType": "int64",
         "type": "integer"
        },
        {
         "name": "('feedback(Too many ads)', 'iqr')",
         "rawType": "float64",
         "type": "float"
        },
        {
         "name": "('feedback(User Friendly Website)', 'mean')",
         "rawType": "float64",
         "type": "float"
        },
        {
         "name": "('feedback(User Friendly Website)', 'std')",
         "rawType": "float64",
         "type": "float"
        },
        {
         "name": "('feedback(User Friendly Website)', 'median')",
         "rawType": "float64",
         "type": "float"
        },
        {
         "name": "('feedback(User Friendly Website)', 'count')",
         "rawType": "int64",
         "type": "integer"
        },
        {
         "name": "('feedback(User Friendly Website)', 'iqr')",
         "rawType": "float64",
         "type": "float"
        }
       ],
       "conversionMethod": "pd.DataFrame",
       "ref": "4036e2a1-358f-4493-8d2a-d46843bfe2e3",
       "rows": [
        [
         "0",
         "37.01266195524146",
         "15.920909781152393",
         "37.0",
         "16980",
         "28.0",
         "0.5011189634864547",
         "0.5000134717363954",
         "1.0",
         "16980",
         "1.0",
         "12.675206124852767",
         "5.456140203060954",
         "13.0",
         "16980",
         "7.0",
         "291.64644779010143",
         "326.1974470879807",
         "174.18",
         "16980",
         "289.1475",
         "33873.28244581861",
         "23348.96782145067",
         "30602.620000000003",
         "16980",
         "29293.785000000003",
         "15.307100340245407",
         "7.899226406900009",
         "16.0",
         "16980",
         "10.25",
         "748.6840972482833",
         "165.56942287702032",
         "749.4300000000001",
         "16980",
         "75.98500000000013",
         "0.5556537102473498",
         "0.49690764351644545",
         "1.0",
         "16980",
         "1.0",
         "0.5626619552414606",
         "0.4960725472939967",
         "1.0",
         "16980",
         "1.0",
         "0.4922850412249706",
         "0.4999551979692472",
         "0.0",
         "16980",
         "1.0",
         "0.3396937573616019",
         "0.4736191709802173",
         "0.0",
         "16980",
         "1.0",
         "0.5252650176678445",
         "0.49937597595239974",
         "1.0",
         "16980",
         "1.0",
         "0.1350412249705536",
         "0.3417776644470302",
         "0.0",
         "16980",
         "0.0",
         "0.014782096584216725",
         "0.1206832380486023",
         "0.0",
         "16980",
         "0.0",
         "0.25217903415783277",
         "0.4342762667140531",
         "0.0",
         "16980",
         "1.0",
         "0.013309776207302709",
         "0.11460104505406567",
         "0.0",
         "16980",
         "0.0",
         "0.2554770318021201",
         "0.43614185834259106",
         "0.0",
         "16980",
         "1.0",
         "0.2623674911660777",
         "0.43993430076505974",
         "0.0",
         "16980",
         "1.0",
         "0.20188457008244995",
         "0.401418335702028",
         "0.0",
         "16980",
         "0.0",
         "0.3336866902237927",
         "0.4715431878249303",
         "0.0",
         "16980",
         "1.0",
         "0.3598939929328622",
         "0.47998320255883326",
         "0.0",
         "16980",
         "1.0",
         "0.3064193168433451",
         "0.46101956154891505",
         "0.0",
         "16980",
         "1.0",
         "0.10759717314487632",
         "0.3098801005203913",
         "0.0",
         "16980",
         "0.0",
         "0.3826266195524146",
         "0.4860425930388716",
         "0.0",
         "16980",
         "1.0",
         "0.36590106007067136",
         "0.4816961067694113",
         "0.0",
         "16980",
         "1.0",
         "0.1438751472320377",
         "0.35097342320465064",
         "0.0",
         "16980",
         "0.0",
         "0.32797408716136633",
         "0.4694891547951341",
         "0.0",
         "16980",
         "1.0",
         "0.3326266195524146",
         "0.47116793787023686",
         "0.0",
         "16980",
         "1.0",
         "0.3393992932862191",
         "0.47351939557575223",
         "0.0",
         "16980",
         "1.0",
         "0.12078916372202592",
         "0.32589169425459363",
         "0.0",
         "16980",
         "0.0",
         "0.5077149587750295",
         "0.49995519796924737",
         "1.0",
         "16980",
         "1.0",
         "0.1232037691401649",
         "0.32868063931014935",
         "0.0",
         "16980",
         "0.0",
         "0.12149587750294465",
         "0.3267122824837374",
         "0.0",
         "16980",
         "0.0",
         "0.1267962308598351",
         "0.33275436531180785",
         "0.0",
         "16980",
         "0.0",
         "0.13521790341578327",
         "0.3419662395485132",
         "0.0",
         "16980",
         "0.0",
         "0.1330977620730271",
         "0.3396903640364574",
         "0.0",
         "16980",
         "0.0",
         "0.13091872791519435",
         "0.3373213834866946",
         "0.0",
         "16980",
         "0.0",
         "0.13598351001177855",
         "0.3427811471748697",
         "0.0",
         "16980",
         "0.0",
         "0.08138987043580684",
         "0.2734409677422977",
         "0.0",
         "16980",
         "0.0",
         "0.0800942285041225",
         "0.27144701599421",
         "0.0",
         "16980",
         "0.0",
         "0.08345111896348645",
         "0.276571029771785",
         "0.0",
         "16980",
         "0.0",
         "0.13792697290930506",
         "0.344833475761044",
         "0.0",
         "16980",
         "0.0",
         "0.08191990577149588",
         "0.27425073261986427",
         "0.0",
         "16980",
         "0.0"
        ],
        [
         "1",
         "37.20767539476314",
         "15.821724470553026",
         "37.0",
         "20012",
         "27.0",
         "0.4964021587047771",
         "0.49999954801972246",
         "0.0",
         "20012",
         "1.0",
         "12.853387967219668",
         "5.388322865416941",
         "13.0",
         "20012",
         "7.0",
         "283.5039572728873",
         "324.1294964966636",
         "174.18",
         "20012",
         "272.5325",
         "25366.363813212072",
         "14252.729860214939",
         "25384.440000000002",
         "20012",
         "24841.8875",
         "17.470367493526084",
         "7.7536201452830635",
         "16.0",
         "20012",
         "11.0",
         "642.1620569464152",
         "171.95916609569923",
         "648.75",
         "20012",
         "103.4425",
         "0.545022986208275",
         "0.49798124718097525",
         "1.0",
         "20012",
         "1.0",
         "0.5439736158305017",
         "0.49807501203008825",
         "1.0",
         "20012",
         "1.0",
         "0.5012492504497301",
         "0.5000109323045886",
         "1.0",
         "20012",
         "1.0",
         "0.3482410553667799",
         "0.4764247736492362",
         "0.0",
         "20012",
         "1.0",
         "0.5315310813511893",
         "0.49901726859345835",
         "1.0",
         "20012",
         "1.0",
         "0.12022786328203078",
         "0.32523592962911535",
         "0.0",
         "20012",
         "0.0",
         "0.37342594443334",
         "0.4837258531202821",
         "0.0",
         "20012",
         "1.0",
         "0.12557465520687588",
         "0.3313776522966105",
         "0.0",
         "20012",
         "0.0",
         "0.37307615430741553",
         "0.4836341856021217",
         "0.0",
         "20012",
         "1.0",
         "0.0",
         "0.0",
         "0.0",
         "20012",
         "0.0",
         "0.0",
         "0.0",
         "0.0",
         "20012",
         "0.0",
         "0.12792324605236857",
         "0.33401267049330574",
         "0.0",
         "20012",
         "0.0",
         "0.3302018788726764",
         "0.47029740634277467",
         "0.0",
         "20012",
         "1.0",
         "0.32610433739756145",
         "0.4687976967764455",
         "0.0",
         "20012",
         "1.0",
         "0.34369378372976217",
         "0.4749522491513203",
         "0.0",
         "20012",
         "1.0",
         "0.09909054567259644",
         "0.2987910148544543",
         "0.0",
         "20012",
         "0.0",
         "0.37057765340795523",
         "0.4829715439698013",
         "0.0",
         "20012",
         "1.0",
         "0.38292024785128925",
         "0.4861112421647037",
         "0.0",
         "20012",
         "1.0",
         "0.14741155306815912",
         "0.354524565728821",
         "0.0",
         "20012",
         "0.0",
         "0.3331501099340396",
         "0.4713514783413895",
         "0.0",
         "20012",
         "1.0",
         "0.33454927043773736",
         "0.47184444605321807",
         "0.0",
         "20012",
         "1.0",
         "0.33230061962822305",
         "0.47104989711340756",
         "0.0",
         "20012",
         "1.0",
         "0.12487507495502699",
         "0.3305854680274838",
         "0.0",
         "20012",
         "0.0",
         "0.4987507495502698",
         "0.5000109323045884",
         "0.0",
         "20012",
         "1.0",
         "0.12627423545872477",
         "0.33216647383248044",
         "0.0",
         "20012",
         "0.0",
         "0.1256246252248651",
         "0.3314341079262827",
         "0.0",
         "20012",
         "0.0",
         "0.12447531481111333",
         "0.3301312721918245",
         "0.0",
         "20012",
         "0.0",
         "0.19958025184889067",
         "0.3996948310009978",
         "0.0",
         "20012",
         "0.0",
         "0.19948031181291226",
         "0.3996196904793148",
         "0.0",
         "20012",
         "0.0",
         "0.20622626424145513",
         "0.40460495860639817",
         "0.0",
         "20012",
         "0.0",
         "0.19798121127323606",
         "0.39848787450109896",
         "0.0",
         "20012",
         "0.0",
         "0.0",
         "0.0",
         "0.0",
         "20012",
         "0.0",
         "0.0",
         "0.0",
         "0.0",
         "20012",
         "0.0",
         "0.0",
         "0.0",
         "0.0",
         "20012",
         "0.0",
         "0.19673196082350589",
         "0.3975379145383121",
         "0.0",
         "20012",
         "0.0",
         "0.0",
         "0.0",
         "0.0",
         "20012",
         "0.0"
        ]
       ],
       "shape": {
        "columns": 215,
        "rows": 2
       }
      },
      "text/html": [
       "<div>\n",
       "<style scoped>\n",
       "    .dataframe tbody tr th:only-of-type {\n",
       "        vertical-align: middle;\n",
       "    }\n",
       "\n",
       "    .dataframe tbody tr th {\n",
       "        vertical-align: top;\n",
       "    }\n",
       "\n",
       "    .dataframe thead tr th {\n",
       "        text-align: left;\n",
       "    }\n",
       "\n",
       "    .dataframe thead tr:last-of-type th {\n",
       "        text-align: right;\n",
       "    }\n",
       "</style>\n",
       "<table border=\"1\" class=\"dataframe\">\n",
       "  <thead>\n",
       "    <tr>\n",
       "      <th></th>\n",
       "      <th colspan=\"5\" halign=\"left\">age</th>\n",
       "      <th colspan=\"5\" halign=\"left\">gender</th>\n",
       "      <th>...</th>\n",
       "      <th colspan=\"5\" halign=\"left\">feedback(Too many ads)</th>\n",
       "      <th colspan=\"5\" halign=\"left\">feedback(User Friendly Website)</th>\n",
       "    </tr>\n",
       "    <tr>\n",
       "      <th></th>\n",
       "      <th>mean</th>\n",
       "      <th>std</th>\n",
       "      <th>median</th>\n",
       "      <th>count</th>\n",
       "      <th>iqr</th>\n",
       "      <th>mean</th>\n",
       "      <th>std</th>\n",
       "      <th>median</th>\n",
       "      <th>count</th>\n",
       "      <th>iqr</th>\n",
       "      <th>...</th>\n",
       "      <th>mean</th>\n",
       "      <th>std</th>\n",
       "      <th>median</th>\n",
       "      <th>count</th>\n",
       "      <th>iqr</th>\n",
       "      <th>mean</th>\n",
       "      <th>std</th>\n",
       "      <th>median</th>\n",
       "      <th>count</th>\n",
       "      <th>iqr</th>\n",
       "    </tr>\n",
       "    <tr>\n",
       "      <th>churn_risk_score</th>\n",
       "      <th></th>\n",
       "      <th></th>\n",
       "      <th></th>\n",
       "      <th></th>\n",
       "      <th></th>\n",
       "      <th></th>\n",
       "      <th></th>\n",
       "      <th></th>\n",
       "      <th></th>\n",
       "      <th></th>\n",
       "      <th></th>\n",
       "      <th></th>\n",
       "      <th></th>\n",
       "      <th></th>\n",
       "      <th></th>\n",
       "      <th></th>\n",
       "      <th></th>\n",
       "      <th></th>\n",
       "      <th></th>\n",
       "      <th></th>\n",
       "      <th></th>\n",
       "    </tr>\n",
       "  </thead>\n",
       "  <tbody>\n",
       "    <tr>\n",
       "      <th>0</th>\n",
       "      <td>37.012662</td>\n",
       "      <td>15.920910</td>\n",
       "      <td>37.0</td>\n",
       "      <td>16980</td>\n",
       "      <td>28.0</td>\n",
       "      <td>0.501119</td>\n",
       "      <td>0.500013</td>\n",
       "      <td>1.0</td>\n",
       "      <td>16980</td>\n",
       "      <td>1.0</td>\n",
       "      <td>...</td>\n",
       "      <td>0.137927</td>\n",
       "      <td>0.344833</td>\n",
       "      <td>0.0</td>\n",
       "      <td>16980</td>\n",
       "      <td>0.0</td>\n",
       "      <td>0.08192</td>\n",
       "      <td>0.274251</td>\n",
       "      <td>0.0</td>\n",
       "      <td>16980</td>\n",
       "      <td>0.0</td>\n",
       "    </tr>\n",
       "    <tr>\n",
       "      <th>1</th>\n",
       "      <td>37.207675</td>\n",
       "      <td>15.821724</td>\n",
       "      <td>37.0</td>\n",
       "      <td>20012</td>\n",
       "      <td>27.0</td>\n",
       "      <td>0.496402</td>\n",
       "      <td>0.500000</td>\n",
       "      <td>0.0</td>\n",
       "      <td>20012</td>\n",
       "      <td>1.0</td>\n",
       "      <td>...</td>\n",
       "      <td>0.196732</td>\n",
       "      <td>0.397538</td>\n",
       "      <td>0.0</td>\n",
       "      <td>20012</td>\n",
       "      <td>0.0</td>\n",
       "      <td>0.00000</td>\n",
       "      <td>0.000000</td>\n",
       "      <td>0.0</td>\n",
       "      <td>20012</td>\n",
       "      <td>0.0</td>\n",
       "    </tr>\n",
       "  </tbody>\n",
       "</table>\n",
       "<p>2 rows × 215 columns</p>\n",
       "</div>"
      ],
      "text/plain": [
       "                        age                                   gender  \\\n",
       "                       mean        std median  count   iqr      mean   \n",
       "churn_risk_score                                                       \n",
       "0                 37.012662  15.920910   37.0  16980  28.0  0.501119   \n",
       "1                 37.207675  15.821724   37.0  20012  27.0  0.496402   \n",
       "\n",
       "                                               ... feedback(Too many ads)  \\\n",
       "                       std median  count  iqr  ...                   mean   \n",
       "churn_risk_score                               ...                          \n",
       "0                 0.500013    1.0  16980  1.0  ...               0.137927   \n",
       "1                 0.500000    0.0  20012  1.0  ...               0.196732   \n",
       "\n",
       "                                              feedback(User Friendly Website)  \\\n",
       "                       std median  count  iqr                            mean   \n",
       "churn_risk_score                                                                \n",
       "0                 0.344833    0.0  16980  0.0                         0.08192   \n",
       "1                 0.397538    0.0  20012  0.0                         0.00000   \n",
       "\n",
       "                                               \n",
       "                       std median  count  iqr  \n",
       "churn_risk_score                               \n",
       "0                 0.274251    0.0  16980  0.0  \n",
       "1                 0.000000    0.0  20012  0.0  \n",
       "\n",
       "[2 rows x 215 columns]"
      ]
     },
     "execution_count": 9,
     "metadata": {},
     "output_type": "execute_result"
    }
   ],
   "source": [
    "\n",
    "def iqr(x):\n",
    "    return np.percentile(x, 75) - np.percentile(x, 25)\n",
    "\n",
    "num_cols = data.select_dtypes(include=[np.number]).columns.tolist()\n",
    "num_cols = [col for col in num_cols if col != 'churn_risk_score']\n",
    "\n",
    "summary = data.groupby('churn_risk_score')[num_cols].agg(['mean', 'std', 'median', 'count', iqr])\n",
    "\n",
    "summary\n"
   ]
  },
  {
   "cell_type": "markdown",
   "id": "c104e093",
   "metadata": {},
   "source": [
    "**chi square**"
   ]
  },
  {
   "cell_type": "code",
   "execution_count": null,
   "id": "0994cb4c",
   "metadata": {},
   "outputs": [
    {
     "name": "stdout",
     "output_type": "stream",
     "text": [
      "                         Feature       p-value\n",
      "3            membership_category  0.000000e+00\n",
      "15                      feedback  0.000000e+00\n",
      "7          preferred_offer_types  5.948122e-16\n",
      "5        joined_through_referral  5.320215e-10\n",
      "2                region_category  9.613296e-05\n",
      "12  offer_application_preference  3.284632e-04\n",
      "8            medium_of_operation  4.654710e-04\n",
      "11         used_special_discount  4.160001e-02\n",
      "13                past_complaint  8.765362e-02\n",
      "14              complaint_status  2.803956e-01\n",
      "10               last_visit_time  2.893995e-01\n",
      "9                internet_option  3.286981e-01\n",
      "0                         gender  3.714744e-01\n",
      "6                    referral_id  4.802663e-01\n",
      "1                    security_no  4.975555e-01\n",
      "4                   joining_date  8.146282e-01\n",
      "\n",
      "Significant features based on Chi-Square test (p-value < 0.05):\n",
      "                         Feature       p-value\n",
      "3            membership_category  0.000000e+00\n",
      "15                      feedback  0.000000e+00\n",
      "7          preferred_offer_types  5.948122e-16\n",
      "5        joined_through_referral  5.320215e-10\n",
      "2                region_category  9.613296e-05\n",
      "12  offer_application_preference  3.284632e-04\n",
      "8            medium_of_operation  4.654710e-04\n",
      "11         used_special_discount  4.160001e-02\n"
     ]
    }
   ],
   "source": [
    "\n",
    "\n",
    "\n",
    "# 1. Identifying categorical columns\n",
    "categorical_cols = data.select_dtypes(include='object').columns.tolist()\n",
    "categorical_cols = [col for col in categorical_cols if col not in ['churn_risk_score']]  # Exclude non-relevant columns\n",
    "\n",
    "# 2. Initializing a dictionary to store the results\n",
    "chi_square_results = {}\n",
    "\n",
    "# 3. Performing the Chi-Square Test\n",
    "for col in categorical_cols:\n",
    "    # Creating a contingency table between \"churn_risk_score\" and each categorical column\n",
    "    contingency_table = pd.crosstab(data['churn_risk_score'], data[col]) \n",
    "\n",
    "    # Applying the Chi-Square test\n",
    "    chi2, p, dof, expected = chi2_contingency(contingency_table)\n",
    "\n",
    "    # Storing the result (p-value) in the dictionary\n",
    "    chi_square_results[col] = p\n",
    "\n",
    "# 4. Converting the results into a DataFrame\n",
    "chi_square_df = pd.DataFrame(list(chi_square_results.items()), columns=['Feature', 'p-value'])\n",
    "\n",
    "# 5. Sorting the results by p-value\n",
    "chi_square_df.sort_values('p-value', inplace=True)\n",
    "\n",
    "# 6. Displaying the results\n",
    "print(chi_square_df)\n",
    "\n",
    "# 7. Filtering the results where p-value is less than 0.05\n",
    "significant_categorical_features = chi_square_df[chi_square_df['p-value'] < 0.05]\n",
    "\n",
    "print(\"\\nSignificant features based on Chi-Square test (p-value < 0.05):\")\n",
    "print(significant_categorical_features)\n"
   ]
  },
  {
   "cell_type": "markdown",
   "id": "685bb8c0",
   "metadata": {},
   "source": [
    "**ANOVA**"
   ]
  },
  {
   "cell_type": "code",
   "execution_count": 11,
   "id": "c9879e0f",
   "metadata": {},
   "outputs": [
    {
     "name": "stdout",
     "output_type": "stream",
     "text": [
      "ANOVA Test:\n",
      "F-statistic: 327.4290956119143\n",
      "P-value: 0.0\n",
      "There are significant differences between membership categories.\n"
     ]
    }
   ],
   "source": [
    "\n",
    "from scipy import stats  # Importing stats from scipy\n",
    "\n",
    "# Selecting the relevant columns and removing any rows with missing values\n",
    "df_anova = data[['avg_transaction_value', 'membership_category']].dropna()\n",
    "\n",
    "# Grouping the data by membership category\n",
    "groups = df_anova.groupby('membership_category')['avg_transaction_value'].apply(list)\n",
    "\n",
    "# Performing the ANOVA test\n",
    "f_stat, p_value = stats.f_oneway(*groups)\n",
    "\n",
    "# Printing the results\n",
    "print(\"ANOVA Test:\")\n",
    "print(\"F-statistic:\", f_stat)\n",
    "print(\"P-value:\", p_value)\n",
    "\n",
    "# Interpretation\n",
    "if p_value < 0.05:\n",
    "    print(\"There are significant differences between membership categories.\")\n",
    "else:\n",
    "    print(\"There are no significant differences between membership categories.\")\n"
   ]
  },
  {
   "cell_type": "markdown",
   "id": "7cb1dc60",
   "metadata": {},
   "source": [
    "**T_test**"
   ]
  },
  {
   "cell_type": "code",
   "execution_count": 12,
   "id": "eb72cb2f",
   "metadata": {},
   "outputs": [
    {
     "name": "stdout",
     "output_type": "stream",
     "text": [
      "T-Test between points_in_wallet and past_complaint:\n",
      "T-Statistic: -0.8483788862658739\n",
      "P-Value: 0.39623248836728764\n",
      "=> There is no significant difference between the two groups.\n"
     ]
    }
   ],
   "source": [
    "from scipy.stats import ttest_ind\n",
    "\n",
    "# Removing rows with missing values\n",
    "df_ttest = data[['points_in_wallet', 'past_complaint']].dropna()\n",
    "\n",
    "# Stripping any extra spaces in the 'past_complaint' column values\n",
    "df_ttest['past_complaint'] = df_ttest['past_complaint'].str.strip()\n",
    "\n",
    "# Preparing the two groups\n",
    "group_yes = df_ttest[df_ttest['past_complaint'] == 'Yes']['points_in_wallet']\n",
    "group_no  = df_ttest[df_ttest['past_complaint'] == 'No']['points_in_wallet']\n",
    "\n",
    "# Performing the T-Test\n",
    "t_stat, p_value = ttest_ind(group_yes, group_no, equal_var=False)  # Welch’s T-test for unequal variances\n",
    "\n",
    "# Printing the results\n",
    "print(\"T-Test between points_in_wallet and past_complaint:\")\n",
    "print(f\"T-Statistic: {t_stat}\")\n",
    "print(f\"P-Value: {p_value}\")\n",
    "\n",
    "# Interpretation\n",
    "if p_value < 0.05:\n",
    "    print(\"=> There is a significant difference between the two groups.\")\n",
    "else:\n",
    "    print(\"=> There is no significant difference between the two groups.\")\n"
   ]
  },
  {
   "cell_type": "markdown",
   "id": "d6d2df3d",
   "metadata": {},
   "source": [
    "**correlation matrix**"
   ]
  },
  {
   "cell_type": "code",
   "execution_count": null,
   "id": "242e772e",
   "metadata": {},
   "outputs": [
    {
     "name": "stdout",
     "output_type": "stream",
     "text": [
      "\n",
      "Correlation of variables with churn_risk_score (sorted):\n",
      "avg_frequency_login_days    0.125612\n",
      "age                         0.006124\n",
      "days_since_last_login      -0.006228\n",
      "avg_time_spent             -0.014263\n",
      "avg_transaction_value      -0.218012\n",
      "points_in_wallet           -0.292728\n",
      "Name: churn_risk_score, dtype: float64\n"
     ]
    },
    {
     "data": {
      "image/png": "[encoded data removed]",
      "text/plain": [
       "<Figure size 1000x800 with 2 Axes>"
      ]
     },
     "metadata": {},
     "output_type": "display_data"
    }
   ],
   "source": [
    "\n",
    "# Defining only the numerical variables\n",
    "numerical_features = [\n",
    "    'points_in_wallet',\n",
    "    'avg_transaction_value',\n",
    "    'age',\n",
    "    'days_since_last_login',\n",
    "    'avg_time_spent',\n",
    "    'avg_frequency_login_days',\n",
    "    'churn_risk_score'\n",
    "]\n",
    "\n",
    "# Creating the correlation matrix\n",
    "corr_matrix = data[numerical_features].corr()\n",
    "\n",
    "# Sorting correlation values with churn_risk_score\n",
    "corr_with_target = corr_matrix['churn_risk_score'].drop('churn_risk_score').sort_values(ascending=False)\n",
    "\n",
    "# Printing sorted correlation values\n",
    "print(\"\\nCorrelation of variables with churn_risk_score (sorted):\")\n",
    "print(corr_with_target)\n",
    "\n",
    "# Plotting a heatmap to visualize the full correlation matrix\n",
    "plt.figure(figsize=(10,8))\n",
    "sns.heatmap(corr_matrix, annot=True, cmap='coolwarm', fmt='.2f')\n",
    "plt.title('Correlation Matrix')\n",
    "plt.show()\n"
   ]
  },
  {
   "cell_type": "code",
   "execution_count": 6,
   "id": "de24badb",
   "metadata": {},
   "outputs": [],
   "source": [
    "preprocessed_data = preprocess_data(data)\n",
    "engineered_data = perform_feature_engineering(preprocessed_data)"
   ]
  },
  {
   "cell_type": "markdown",
   "id": "54310222",
   "metadata": {},
   "source": [
    "**RFE**"
   ]
  },
  {
   "cell_type": "code",
   "execution_count": 7,
   "id": "87ea6582",
   "metadata": {},
   "outputs": [
    {
     "name": "stdout",
     "output_type": "stream",
     "text": [
      "\n",
      " Random Forest selected features:\n",
      "['age', 'joining_date', 'days_since_last_login', 'avg_time_spent', 'avg_transaction_value', 'avg_frequency_login_days', 'points_in_wallet', 'membership_category(Basic Membership)', 'membership_category(Gold Membership)', 'membership_category(No Membership)', 'membership_category(Platinum Membership)', 'membership_category(Premium Membership)', 'membership_category(Silver Membership)', 'feedback(Products always in Stock)', 'feedback(Quality Customer Care)', 'feedback(Reasonable Price)', 'feedback(User Friendly Website)', 'customer_tenure', 'usage_pattern', 'engagement_score', 'log_age', 'log_days_since_last_login', 'log_avg_time_spent', 'log_avg_transaction_value', 'log_avg_frequency_login_days', 'log_points_in_wallet', 'log_customer_tenure', 'log_usage_pattern', 'log_engagement_score', 'join_month']\n",
      "Random Forest RFE Accuracy: 0.9359\n",
      "\n",
      " Logistic Regression selected features:\n",
      "['age', 'joining_date', 'days_since_last_login', 'avg_time_spent', 'avg_transaction_value', 'avg_frequency_login_days', 'points_in_wallet', 'membership_category(Basic Membership)', 'membership_category(Gold Membership)', 'membership_category(No Membership)', 'membership_category(Platinum Membership)', 'membership_category(Premium Membership)', 'feedback(Poor Product Quality)', 'feedback(Reasonable Price)', 'feedback(User Friendly Website)', 'customer_tenure', 'usage_pattern', 'engagement_score', 'log_age', 'log_days_since_last_login', 'log_avg_time_spent', 'log_avg_transaction_value', 'log_avg_frequency_login_days', 'log_points_in_wallet', 'log_customer_tenure', 'log_usage_pattern', 'log_interaction_frequency', 'log_engagement_score', 'join_month', 'join_year']\n",
      "Logistic Regression RFE Accuracy: 0.5436\n",
      "\n",
      " Common Features: ['avg_frequency_login_days', 'membership_category(Basic Membership)', 'log_days_since_last_login', 'engagement_score', 'days_since_last_login', 'log_usage_pattern', 'membership_category(Gold Membership)', 'join_month', 'feedback(User Friendly Website)', 'feedback(Reasonable Price)', 'log_avg_frequency_login_days', 'log_engagement_score', 'points_in_wallet', 'membership_category(No Membership)', 'usage_pattern', 'membership_category(Platinum Membership)', 'customer_tenure', 'log_points_in_wallet', 'avg_time_spent', 'age', 'membership_category(Premium Membership)', 'log_customer_tenure', 'log_age', 'avg_transaction_value', 'log_avg_transaction_value', 'joining_date', 'log_avg_time_spent']\n",
      " Only in RF: ['feedback(Products always in Stock)', 'membership_category(Silver Membership)', 'feedback(Quality Customer Care)']\n",
      " Only in LR: ['log_interaction_frequency', 'join_year', 'feedback(Poor Product Quality)']\n"
     ]
    }
   ],
   "source": [
    "\n",
    "\n",
    "data_rfe = engineered_data\n",
    "for col in data_rfe.columns:\n",
    "    if data_rfe[col].dtype == 'object' or data_rfe[col].dtype.name == 'datetime64[ns]':\n",
    "        try:\n",
    "            data_rfe[col] = pd.to_numeric(data_rfe[col])\n",
    "        except:\n",
    "            data_rfe = data_rfe.drop(col, axis=1)\n",
    "\n",
    "X = data_rfe.drop('churn_risk_score', axis=1)\n",
    "y = data_rfe['churn_risk_score']\n",
    "\n",
    "\n",
    "X_train, X_test, y_train, y_test = train_test_split(X, y, test_size=0.2, random_state=42)\n",
    "\n",
    "num_features = 30\n",
    "\n",
    "# 3. RFE : Random Forest\n",
    "rf_model = RandomForestClassifier(random_state=42)\n",
    "rfe_rf = RFE(rf_model, n_features_to_select=num_features)\n",
    "rfe_rf.fit(X_train, y_train)\n",
    "rf_selected_features = X.columns[rfe_rf.support_]\n",
    "\n",
    "# 4. RFE : Logistic Regression\n",
    "lr_model = LogisticRegression(max_iter=1000, random_state=42)\n",
    "rfe_lr = RFE(lr_model, n_features_to_select=num_features)\n",
    "rfe_lr.fit(X_train, y_train)\n",
    "lr_selected_features = X.columns[rfe_lr.support_]\n",
    "\n",
    "\n",
    "# Random Forest performance\n",
    "rf_model.fit(X_train[rf_selected_features], y_train)\n",
    "y_pred_rf = rf_model.predict(X_test[rf_selected_features])\n",
    "acc_rf = accuracy_score(y_test, y_pred_rf)\n",
    "\n",
    "# Logistic Regression performance\n",
    "lr_model.fit(X_train[lr_selected_features], y_train)\n",
    "y_pred_lr = lr_model.predict(X_test[lr_selected_features])\n",
    "acc_lr = accuracy_score(y_test, y_pred_lr)\n",
    "\n",
    "\n",
    "print(\"\\n Random Forest selected features:\")\n",
    "print(rf_selected_features.tolist())\n",
    "print(f\"Random Forest RFE Accuracy: {acc_rf:.4f}\")\n",
    "\n",
    "print(\"\\n Logistic Regression selected features:\")\n",
    "print(lr_selected_features.tolist())\n",
    "print(f\"Logistic Regression RFE Accuracy: {acc_lr:.4f}\")\n",
    "\n",
    "common = set(rf_selected_features) & set(lr_selected_features)\n",
    "only_rf = set(rf_selected_features) - set(lr_selected_features)\n",
    "only_lr = set(lr_selected_features) - set(rf_selected_features)\n",
    "\n",
    "print(\"\\n Common Features:\", list(common))\n",
    "print(\" Only in RF:\", list(only_rf))\n",
    "print(\" Only in LR:\", list(only_lr))\n"
   ]
  }
 ],
 "metadata": {
  "kernelspec": {
   "display_name": "base",
   "language": "python",
   "name": "python3"
  },
  "language_info": {
   "codemirror_mode": {
    "name": "ipython",
    "version": 3
   },
   "file_extension": ".py",
   "mimetype": "text/x-python",
   "name": "python",
   "nbconvert_exporter": "python",
   "pygments_lexer": "ipython3",
   "version": "3.11.5"
  }
 },
 "nbformat": 4,
 "nbformat_minor": 5
}
